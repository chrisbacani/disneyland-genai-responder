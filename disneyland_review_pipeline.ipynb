{
 "cells": [
  {
   "cell_type": "markdown",
   "id": "1d7b19f2-1569-4c91-ae4f-adfe55718f5d",
   "metadata": {},
   "source": [
    "# Disneyland Guest Review Summarization & Response Pipeline\n",
    "\n",
    "This notebook processes guest reviews from Disneyland using a multi-step NLP pipeline:\n",
    "\n",
    "1. **Summarization**: Condenses long or verbose reviews into clean summaries using Hugging Face's BART model.\n",
    "2. **Sentiment Analysis**: Classifies tone using a binary classifier (Positive or Negative).\n",
    "3. **Response Generation**:\n",
    "   - **Preliminary**: Rule-based template generation (e.g., if sentiment == negative, apologize).\n",
    "   - **Final**: LLM-driven GPT-3.5 responses that reference review tone, guest location, and brand voice.\n",
    "\n",
    "**Use Case:** Designed to simulate a scalable guest relations assistant that could automatically draft brand-aligned responses to public reviews on platforms like TripAdvisor or internal NPS feedback tools.\n",
    "\n",
    "**Impact:** Human-quality tone control, apology or upsell logic based on detected sentiment, and support for multilingual or location-based personalization.\n",
    "\n",
    "Responses are formatted to reflect Disney Guest Services style and tone.\n",
    "\n",
    "> Technologies: Hugging Face Transformers, OpenAI API, pandas, Python"
   ]
  },
  {
   "cell_type": "markdown",
   "id": "aace5e2d-7fd7-422f-9e26-8ad9554ab51a",
   "metadata": {},
   "source": [
    "## 1. Setup and Imports"
   ]
  },
  {
   "cell_type": "raw",
   "id": "6196c565-ef66-4187-a0b8-76ca2b2cffa7",
   "metadata": {},
   "source": [
    "!pip install transformers torch pandas matplotlib seaborn openai dotenv"
   ]
  },
  {
   "cell_type": "raw",
   "id": "a2f8e3aa-57e9-4af8-8561-a727bb3c3756",
   "metadata": {},
   "source": [
    "!pip install matplotlib seaborn"
   ]
  },
  {
   "cell_type": "markdown",
   "id": "548ddadb-899b-44c1-ad23-6100e0d8d281",
   "metadata": {},
   "source": [
    "### Imports"
   ]
  },
  {
   "cell_type": "code",
   "execution_count": 1,
   "id": "a44c1df5-f8b8-49db-9e4e-69d8c4efd55e",
   "metadata": {},
   "outputs": [
    {
     "name": "stderr",
     "output_type": "stream",
     "text": [
      "Device set to use mps:0\n",
      "No model was supplied, defaulted to distilbert/distilbert-base-uncased-finetuned-sst-2-english and revision 714eb0f (https://huggingface.co/distilbert/distilbert-base-uncased-finetuned-sst-2-english).\n",
      "Using a pipeline without specifying a model name and revision in production is not recommended.\n",
      "Device set to use mps:0\n"
     ]
    }
   ],
   "source": [
    "import pandas as pd\n",
    "from transformers import pipeline\n",
    "\n",
    "# Load Hugging Face pipelines\n",
    "summarizer = pipeline(\"summarization\", model = \"facebook/bart-large-cnn\")\n",
    "sentiment_analyzer = pipeline(\"sentiment-analysis\")"
   ]
  },
  {
   "cell_type": "markdown",
   "id": "09372add-746a-47bc-9353-6d9cc9db3916",
   "metadata": {},
   "source": [
    "## 2. Data Loading and Cleaning"
   ]
  },
  {
   "cell_type": "code",
   "execution_count": 2,
   "id": "fb13338c-4cb5-4944-8d0d-3bcd5b070dc7",
   "metadata": {},
   "outputs": [
    {
     "data": {
      "text/html": [
       "<div>\n",
       "<style scoped>\n",
       "    .dataframe tbody tr th:only-of-type {\n",
       "        vertical-align: middle;\n",
       "    }\n",
       "\n",
       "    .dataframe tbody tr th {\n",
       "        vertical-align: top;\n",
       "    }\n",
       "\n",
       "    .dataframe thead th {\n",
       "        text-align: right;\n",
       "    }\n",
       "</style>\n",
       "<table border=\"1\" class=\"dataframe\">\n",
       "  <thead>\n",
       "    <tr style=\"text-align: right;\">\n",
       "      <th></th>\n",
       "      <th>Review_ID</th>\n",
       "      <th>Rating</th>\n",
       "      <th>Year_Month</th>\n",
       "      <th>Reviewer_Location</th>\n",
       "      <th>Review_Text</th>\n",
       "      <th>Branch</th>\n",
       "    </tr>\n",
       "  </thead>\n",
       "  <tbody>\n",
       "    <tr>\n",
       "      <th>0</th>\n",
       "      <td>670772142</td>\n",
       "      <td>4</td>\n",
       "      <td>2019-4</td>\n",
       "      <td>Australia</td>\n",
       "      <td>If you've ever been to Disneyland anywhere you...</td>\n",
       "      <td>Disneyland_HongKong</td>\n",
       "    </tr>\n",
       "    <tr>\n",
       "      <th>1</th>\n",
       "      <td>670682799</td>\n",
       "      <td>4</td>\n",
       "      <td>2019-5</td>\n",
       "      <td>Philippines</td>\n",
       "      <td>Its been a while since d last time we visit HK...</td>\n",
       "      <td>Disneyland_HongKong</td>\n",
       "    </tr>\n",
       "    <tr>\n",
       "      <th>2</th>\n",
       "      <td>670623270</td>\n",
       "      <td>4</td>\n",
       "      <td>2019-4</td>\n",
       "      <td>United Arab Emirates</td>\n",
       "      <td>Thanks God it wasn   t too hot or too humid wh...</td>\n",
       "      <td>Disneyland_HongKong</td>\n",
       "    </tr>\n",
       "    <tr>\n",
       "      <th>3</th>\n",
       "      <td>670607911</td>\n",
       "      <td>4</td>\n",
       "      <td>2019-4</td>\n",
       "      <td>Australia</td>\n",
       "      <td>HK Disneyland is a great compact park. Unfortu...</td>\n",
       "      <td>Disneyland_HongKong</td>\n",
       "    </tr>\n",
       "    <tr>\n",
       "      <th>4</th>\n",
       "      <td>670607296</td>\n",
       "      <td>4</td>\n",
       "      <td>2019-4</td>\n",
       "      <td>United Kingdom</td>\n",
       "      <td>the location is not in the city, took around 1...</td>\n",
       "      <td>Disneyland_HongKong</td>\n",
       "    </tr>\n",
       "  </tbody>\n",
       "</table>\n",
       "</div>"
      ],
      "text/plain": [
       "   Review_ID  Rating Year_Month     Reviewer_Location  \\\n",
       "0  670772142       4     2019-4             Australia   \n",
       "1  670682799       4     2019-5           Philippines   \n",
       "2  670623270       4     2019-4  United Arab Emirates   \n",
       "3  670607911       4     2019-4             Australia   \n",
       "4  670607296       4     2019-4        United Kingdom   \n",
       "\n",
       "                                         Review_Text               Branch  \n",
       "0  If you've ever been to Disneyland anywhere you...  Disneyland_HongKong  \n",
       "1  Its been a while since d last time we visit HK...  Disneyland_HongKong  \n",
       "2  Thanks God it wasn   t too hot or too humid wh...  Disneyland_HongKong  \n",
       "3  HK Disneyland is a great compact park. Unfortu...  Disneyland_HongKong  \n",
       "4  the location is not in the city, took around 1...  Disneyland_HongKong  "
      ]
     },
     "execution_count": 2,
     "metadata": {},
     "output_type": "execute_result"
    }
   ],
   "source": [
    "# Loading Disneyland review data\n",
    "reviews = pd.read_csv(\"./data/DisneylandReviews.csv\", encoding='ISO-8859-1')\n",
    "reviews.head()"
   ]
  },
  {
   "cell_type": "markdown",
   "id": "9010975b-3d30-4eee-8443-bab2ae807735",
   "metadata": {},
   "source": [
    "### Quick EDA"
   ]
  },
  {
   "cell_type": "code",
   "execution_count": 3,
   "id": "462ebab2-280f-42b0-9854-91c802104ac9",
   "metadata": {},
   "outputs": [
    {
     "data": {
      "text/plain": [
       "Branch\n",
       "Disneyland_California    19406\n",
       "Disneyland_Paris         13630\n",
       "Disneyland_HongKong       9620\n",
       "Name: count, dtype: int64"
      ]
     },
     "execution_count": 3,
     "metadata": {},
     "output_type": "execute_result"
    }
   ],
   "source": [
    "# Checking which park our guests are visiting\n",
    "reviews.Branch.value_counts()"
   ]
  },
  {
   "cell_type": "markdown",
   "id": "863bc5e9-bdd4-467a-8552-233f241781af",
   "metadata": {},
   "source": [
    "### Normalizing text in Branch column"
   ]
  },
  {
   "cell_type": "code",
   "execution_count": 4,
   "id": "87fbda8a-d322-4a47-808f-c421e9ed4e0e",
   "metadata": {},
   "outputs": [],
   "source": [
    "# Normalizing the column values in ['Branch'] Removing underscores and writing 'Hong Kong' with proper casing\n",
    "\n",
    "reviews[\"Branch\"] = (\n",
    "    reviews[\"Branch\"]\n",
    "    .astype(str)\n",
    "    .str.replace(\"_\", \" \", regex=False)\n",
    "    .str.replace(\"HongKong\", \"Hong Kong\", regex=False)\n",
    "    .str.strip()\n",
    ")"
   ]
  },
  {
   "cell_type": "markdown",
   "id": "ccdaa3a5-2cae-49a7-a943-c55552a5bce6",
   "metadata": {},
   "source": [
    "#### Checking length of guest reviews"
   ]
  },
  {
   "cell_type": "code",
   "execution_count": 5,
   "id": "360f2caa-90dd-4442-968c-1a41b47e7938",
   "metadata": {},
   "outputs": [
    {
     "data": {
      "image/png": "[encoded data removed]",
      "text/plain": [
       "<Figure size 1000x500 with 1 Axes>"
      ]
     },
     "metadata": {},
     "output_type": "display_data"
    }
   ],
   "source": [
    "import matplotlib.pyplot as plt\n",
    "import seaborn as sns\n",
    "\n",
    "# Basic review length distribution\n",
    "reviews[\"Review_Length\"] = reviews[\"Review_Text\"].str.len()\n",
    "\n",
    "plt.figure(figsize=(10, 5))\n",
    "sns.histplot(reviews[\"Review_Length\"], bins=50, kde=True)\n",
    "plt.title(\"Length of Guest Reviews\")\n",
    "plt.xlabel(\"Character count (n)\")\n",
    "plt.ylabel(\"Frequency\")\n",
    "plt.show()"
   ]
  },
  {
   "cell_type": "markdown",
   "id": "8cc584ec-21e2-4701-b254-36f4a02a7c74",
   "metadata": {},
   "source": [
    "Majority are not that verbose, less than a 5000 count of total characters."
   ]
  },
  {
   "cell_type": "markdown",
   "id": "4a16e4ff-1103-47bc-8d92-c0d66dfb61ed",
   "metadata": {},
   "source": [
    "##### Checking for null values"
   ]
  },
  {
   "cell_type": "code",
   "execution_count": 6,
   "id": "88a0155e-477a-498a-af81-4221fbe361a0",
   "metadata": {},
   "outputs": [
    {
     "data": {
      "text/plain": [
       "Review_ID            0\n",
       "Rating               0\n",
       "Year_Month           0\n",
       "Reviewer_Location    0\n",
       "Review_Text          0\n",
       "Branch               0\n",
       "Review_Length        0\n",
       "dtype: int64"
      ]
     },
     "execution_count": 6,
     "metadata": {},
     "output_type": "execute_result"
    }
   ],
   "source": [
    "# Checking nulls\n",
    "reviews.isna().sum()"
   ]
  },
  {
   "cell_type": "markdown",
   "id": "af915e69-377b-45be-8bdd-0b5065ffd783",
   "metadata": {},
   "source": [
    "No null values, good to proceed"
   ]
  },
  {
   "cell_type": "markdown",
   "id": "b42ba955-eb28-4837-b19d-bb77b11b26cb",
   "metadata": {},
   "source": [
    "## 3. Core Functions `summarize_review`, `analyze_sentiment`, `generate_response`"
   ]
  },
  {
   "cell_type": "code",
   "execution_count": 20,
   "id": "186c48ca-64d6-44cb-9a73-9cbcfadd68d1",
   "metadata": {},
   "outputs": [],
   "source": [
    "# Summary\n",
    "def summarize_review(text):\n",
    "    return summarizer(text, max_length = 50, min_length = 10, do_sample = False)[0]['summary_text']\n",
    "\n",
    "# Sentiment Analysis\n",
    "def analyze_sentiment(text):\n",
    "    \"\"\"Will return a result that reads like: {'label': 'POSITIVE', 'score' : 0.98}\"\"\"\n",
    "    return sentiment_analyzer(text)[0]  # returns {'label': 'POSITIVE', 'score': 0.98}                            \n",
    "\n",
    "# Preliminary response generation\n",
    "def generate_response(summary, sentiment_label, branch = None, reviewer_location = None):\n",
    "    \"\"\"Rule based: will return a response based on whether the sentiment perceived was positive or negative. If unable, response will send a generic fallback 'thank you for your honest review.'\"\"\"\n",
    "    sentiment_label = sentiment_label.lower()\n",
    "    if \"positive\" in sentiment_label:\n",
    "        return f\"Thanks very much for your kind feedback. We're glad you enjoyed your magical day at {branch} and look forward to welcoming you back to the Happiest Place on Earth®! {summary}\"\n",
    "\n",
    "    elif \"negative\" in sentiment_label:\n",
    "        return f\"We're very sorry to hear your experience wasn't magical, especially since you came all the way from {reviewer_location}. We'll try to do better next time. {summary}\"\n",
    "\n",
    "    else:\n",
    "        return f\"Thank you for your honest review, have many more magical days! {summary}\""
   ]
  },
  {
   "cell_type": "markdown",
   "id": "58312d7b-1216-466c-b256-c82286d31036",
   "metadata": {},
   "source": [
    "### Test on a single random review (quick check)"
   ]
  },
  {
   "cell_type": "code",
   "execution_count": 8,
   "id": "e56e650b-211f-4d83-abf9-17e5cd20187b",
   "metadata": {},
   "outputs": [
    {
     "name": "stdout",
     "output_type": "stream",
     "text": [
      "Review #21372\n",
      "\n",
      "Original Review:\n",
      " When my husband wanted to spontaneously drive from San Francisco to Anaheim one Friday night so we could go to Disneyland for the first time, this weary Disney World lover was suspicious. We ended up absolutely loving the park, and spent all day there, soaking in every detail and visiting every attraction. Some of my friends who had visited both the Anaheim and Orlando Disney properties told me that Disney World was way better. After my visit, I have to disagree. I love Disneyland because of the added layers of history that augment the experience. All the pictures you see in the history books prove that Walt Disney loved Disneyland and, sadly, didn't live long enough to step foot in the finished Magic Kingdom at Disney World.My favorite attractions at this park include the Pirates of the Caribbean, the theming of New Orleans Square, and the Haunted Mansion Holiday overlay. The food is excellent and we had to eat a Monte Cristo sandwich to commemorate that is was invented here at Disneyland!We've visited twice and plan to visit again, though probably not too soon, unfortunately. There are some attractions that we haven't had the opportunity to visit    partly because we didn't have enough time during first go around and then they were closed for refurbishment on our second trip. I have a wish list of park tours that I'd like to take, including one that takes you into Walt Disney's private apartment above the fire station on Main Street. Those historical features are the little details that push this park over the edge of being my favorite Disney park in the world!\n",
      "\n",
      " Summary:\n",
      " My favorite attractions at this park include the Pirates of the Caribbean, the theming of New Orleans Square, and the Haunted Mansion Holiday overlay. The food is excellent and we had to eat a Monte Cristo sandwich to commemorate that is was\n",
      "\n",
      " Sentiment:\n",
      " {'label': 'POSITIVE', 'score': 0.9988223910331726}\n",
      "\n",
      " Drafted Response:\n",
      " Thanks very much for your kind feedback. We're glad you enjoyed your magical day at Disneyland California and look forward to welcoming you back to the Happiest Place on Earth®! My favorite attractions at this park include the Pirates of the Caribbean, the theming of New Orleans Square, and the Haunted Mansion Holiday overlay. The food is excellent and we had to eat a Monte Cristo sandwich to commemorate that is was\n"
     ]
    }
   ],
   "source": [
    "import random\n",
    "\n",
    "# Selecting a random index from the dataset\n",
    "random_index = random.randint(0, len(reviews) -1)\n",
    "row = reviews.loc[random_index]\n",
    "\n",
    "# Pull text, branch, and location\n",
    "sample_text = row[\"Review_Text\"]\n",
    "sample_branch = reviews.loc[random_index, \"Branch\"]  # pulls from cleaned DataFrame\n",
    "sample_location = reviews.loc[random_index, \"Reviewer_Location\"]\n",
    "\n",
    "# Process review\n",
    "summary = summarize_review(sample_text)\n",
    "sentiment = analyze_sentiment(sample_text)\n",
    "response = generate_response(summary, sentiment[\"label\"], branch=sample_branch, reviewer_location=sample_location)\n",
    "\n",
    "# Display the results\n",
    "# Display results\n",
    "print(f\"Review #{random_index}\\n\")\n",
    "print(\"Original Review:\\n\", sample_text)\n",
    "print(\"\\n Summary:\\n\", summary)\n",
    "print(\"\\n Sentiment:\\n\", sentiment)\n",
    "print(\"\\n Drafted Response:\\n\", response)"
   ]
  },
  {
   "cell_type": "markdown",
   "id": "28b9e9b1-9766-4519-a4a7-eed43e0bba60",
   "metadata": {},
   "source": [
    "## 4. OpenAI-powered Response Generator"
   ]
  },
  {
   "cell_type": "code",
   "execution_count": 9,
   "id": "892ad37f-0f7d-4634-87d7-79cf1315a30a",
   "metadata": {},
   "outputs": [],
   "source": [
    "import openai"
   ]
  },
  {
   "cell_type": "code",
   "execution_count": 10,
   "id": "669b7a2f-9e19-4920-a10b-4419c8b383f7",
   "metadata": {},
   "outputs": [],
   "source": [
    "import os"
   ]
  },
  {
   "cell_type": "code",
   "execution_count": 11,
   "id": "de049852-c146-48a5-9e45-0cae4e80d68e",
   "metadata": {},
   "outputs": [],
   "source": [
    "from dotenv import load_dotenv"
   ]
  },
  {
   "cell_type": "code",
   "execution_count": 12,
   "id": "9bd27732-210d-4ca5-be29-e47c72fad691",
   "metadata": {},
   "outputs": [],
   "source": [
    "load_dotenv()\n",
    "api_key = os.getenv(\"OPENAI_API_KEY\")"
   ]
  },
  {
   "cell_type": "markdown",
   "id": "30fefbed-c338-470e-91cc-362b047c6ac3",
   "metadata": {},
   "source": [
    "### Response Generation Function"
   ]
  },
  {
   "cell_type": "code",
   "execution_count": 13,
   "id": "5b0f2d70-5b45-420d-8a4c-b5c55bf5d138",
   "metadata": {},
   "outputs": [],
   "source": [
    "from openai import OpenAI\n",
    "\n",
    "client = OpenAI(api_key=api_key)\n",
    "\n",
    "def openai_generate_response(review_text, reviewer_location=\"your location\"):\n",
    "    prompt = f\"\"\"\n",
    "You are a Disneyland customer service representative.\n",
    "\n",
    "A guest from {reviewer_location} wrote the following review:\n",
    "\n",
    "\\\"\\\"\\\"{review_text}\\\"\\\"\\\"\n",
    "\n",
    "Write a thoughtful, friendly, and professional response as if you personally read the review. Your response should:\n",
    "- Acknowledge specific details from the review, especially if the review is negative.\n",
    "- Reflect the tone of the guest's experience (positive, negative, or neutral)\n",
    "- Be written in a sincere and human voice\n",
    "- If the review is negative, offer some special offer or concession to apologize for the negative experience\n",
    "- End with a **magical Disney-style farewell** (such as \"Have a magical day!\" or \"We look forward to welcoming you back to the Happiest Place on Earth.\")\n",
    "- Sign off with a realistic name (e.g., \"Best wishes, Chris – Disneyland Guest Services\"). **Do not write '[Your Name]'. You MUST use an actual name.**\n",
    "\n",
    "Keep it brief—no more than 5-7 sentences.\n",
    "\"\"\"\n",
    "\n",
    "    response = client.chat.completions.create(\n",
    "        model=\"gpt-3.5-turbo\",\n",
    "        messages=[\n",
    "            {\"role\": \"user\", \"content\": prompt}\n",
    "        ],\n",
    "        temperature=0.7,\n",
    "        max_tokens=300\n",
    "    )\n",
    "\n",
    "    return response.choices[0].message.content\n"
   ]
  },
  {
   "cell_type": "markdown",
   "id": "3eef44f8-10ad-4a0f-bfa3-e2c40c53e845",
   "metadata": {},
   "source": [
    "### First test, randomly selected"
   ]
  },
  {
   "cell_type": "code",
   "execution_count": 14,
   "id": "3bf50cd1-adf4-4ab6-8ca0-d45be21ae41f",
   "metadata": {},
   "outputs": [
    {
     "name": "stdout",
     "output_type": "stream",
     "text": [
      "Original Review:\n",
      " Well, after 50 years of watching Disney from the Mickey Mouse Club to the latest live and animated movies I finally made it there and it was more than I imagined. I was like a kid in a toy store, my wife had to run to keep up with me! The sights the sounds the smells the rides the characters, everything I hoped my visit would be and even more. I took hundreds of photos, ate heaps of food and went on heaps of rides. Disneyland is for kids from 4 to 94! It is just an amazing place to visit. When it was time to leave I almost cried, but at my age the feet, back and legs said come on boy get me back to my hotel room I need to rest! Do it people, get to Disneyland, it is the place where dreams come true.\n",
      "\n",
      " Drafted Response:\n",
      " Dear valued guest,\n",
      "\n",
      "Thank you so much for taking the time to share your wonderful experience at Disneyland with us! We are thrilled to hear that your visit exceeded your expectations and that you had a magical time exploring the park. It warms our hearts to know that you felt like a kid in a toy store and that Disneyland truly is a place where dreams come true for guests of all ages. We appreciate your kind words and can't wait to welcome you back for more unforgettable memories. \n",
      "\n",
      "Have a magical day!\n",
      "\n",
      "Best wishes,\n",
      "Chris - Disneyland Guest Services\n"
     ]
    }
   ],
   "source": [
    "# Select a random review\n",
    "random_index = random.randint(0, len(reviews) - 1)\n",
    "sample_text = reviews.loc[random_index, \"Review_Text\"]\n",
    "\n",
    "# Call function to generate response based on sample review text\n",
    "print(\"Original Review:\\n\", sample_text)\n",
    "print(\"\\n Drafted Response:\\n\", openai_generate_response(sample_text))"
   ]
  },
  {
   "cell_type": "markdown",
   "id": "b318ff72-234c-4c6b-a2ec-722ab591223e",
   "metadata": {},
   "source": [
    "### Second Test: Hardcoded, Based on Negative sentiment"
   ]
  },
  {
   "cell_type": "code",
   "execution_count": 15,
   "id": "26ef7bf6-7129-498e-9042-aa1fad201c4f",
   "metadata": {},
   "outputs": [
    {
     "name": "stderr",
     "output_type": "stream",
     "text": [
      "Your max_length is set to 50, but your input_length is only 39. Since this is a summarization task, where outputs shorter than the input are typically wanted, you might consider decreasing max_length manually, e.g. summarizer('...', max_length=19)\n"
     ]
    },
    {
     "name": "stdout",
     "output_type": "stream",
     "text": [
      "Sentiment: NEGATIVE\n",
      "\n",
      "Original Review:\n",
      " Just back from 3 days at Disneyland what should have been a pleasant experience but ended up with a very annoying 3 days .As several attractions were under renovation ( such as Peter Pan ) or due to technical problems even closed for several hours ( such as Ratatouille ) the crowd focused on those that were open with result of long cues and waiting times of up to 3 hours .Unacceptable experience and never again .\n",
      "\n",
      "Summary:\n",
      " As several attractions were under renovation ( such as Peter Pan ) or due to technical problems even closed for several hours. The crowd focused on those that were open with result of long cues and waiting times of up to 3 hours.Unacceptable\n",
      "\n",
      "Drafted Response:\n",
      " Dear valued guest,\n",
      "\n",
      "Thank you for sharing your experience with us. We truly apologize for the inconvenience caused by the attractions under renovation and technical issues during your visit. Your feedback is valuable to us, and we will work diligently to ensure a more magical experience for all our guests in the future. As a gesture of goodwill, we would like to offer you a complimentary FastPass for your next visit. We hope to have the opportunity to make it right and create a truly enchanting experience for you. Have a magical day!\n",
      "\n",
      "Best wishes,\n",
      "Megan - Disneyland Guest Services\n"
     ]
    }
   ],
   "source": [
    "def analyze_sentiment(text):\n",
    "    result = sentiment_analyzer(text)[0]  # {'label': 'POSITIVE', 'score': 0.93}\n",
    "    return result[\"label\"]\n",
    "\n",
    "# Keep trying random reviews until you get a POSITIVE one\n",
    "while True:\n",
    "    random_index = random.randint(0, len(reviews) - 1)\n",
    "    row = reviews.loc[random_index]\n",
    "    \n",
    "    sample_text = row[\"Review_Text\"]\n",
    "    summary = summarize_review(sample_text)\n",
    "    sentiment_label = analyze_sentiment(summary)\n",
    "\n",
    "    if sentiment_label == \"NEGATIVE\":\n",
    "        break \n",
    "\n",
    "# Pull location and prepare input\n",
    "review_with_sentiment = f\"(Sentiment detected: {sentiment_label})\\n\\n{sample_text}\"\n",
    "\n",
    "#  Generate response\n",
    "print(f\"Sentiment: {sentiment_label}\")\n",
    "print(\"\\nOriginal Review:\\n\",sample_text)\n",
    "print(\"\\nSummary:\\n\",summary)\n",
    "print(\"\\nDrafted Response:\\n\",\n",
    "      openai_generate_response(review_with_sentiment))\n"
   ]
  },
  {
   "cell_type": "markdown",
   "id": "ab67fccf-9311-4a8b-bd2d-aa024b766926",
   "metadata": {},
   "source": [
    "### Third Test: Hardcoded, Based on Positive sentiment"
   ]
  },
  {
   "cell_type": "code",
   "execution_count": 16,
   "id": "c54a1d2e-3cff-441a-93f6-3fbb440d5f46",
   "metadata": {},
   "outputs": [
    {
     "name": "stderr",
     "output_type": "stream",
     "text": [
      "Your max_length is set to 50, but your input_length is only 49. Since this is a summarization task, where outputs shorter than the input are typically wanted, you might consider decreasing max_length manually, e.g. summarizer('...', max_length=24)\n"
     ]
    },
    {
     "name": "stdout",
     "output_type": "stream",
     "text": [
      "Sentiment: POSITIVE\n",
      "\n",
      "Original Review:\n",
      " fantastic world story   bad and expensive services   super and safe montagnes russes   huge waiting lines  for the kids you have to go there at least once, for yourself.....it's up to your personality\n",
      "\n",
      "Summary:\n",
      " Montagnes russes is one of the most popular tourist attractions in the world. It is located in the city of Montagnes, Russia.\n",
      "\n",
      "Drafted Response:\n",
      " Thank you for sharing your feedback with us! We're happy to hear you enjoyed the fantastic world story and our super and safe montagnes russes. We apologize for any inconvenience you experienced with our services and long waiting lines. Your feedback is valuable to us, and we will work on improving these areas. We hope you'll give us another chance to create a magical experience for you and your family. Have a magical day!\n",
      "\n",
      "Best wishes,\n",
      "Sophia - Disneyland Guest Services\n"
     ]
    }
   ],
   "source": [
    "def analyze_sentiment(text):\n",
    "    result = sentiment_analyzer(text)[0]  # {'label': 'POSITIVE', 'score': 0.93}\n",
    "    return result[\"label\"]\n",
    "\n",
    "# Keep trying random reviews until you get a POSITIVE one\n",
    "while True:\n",
    "    random_index = random.randint(0, len(reviews) - 1)\n",
    "    row = reviews.loc[random_index]\n",
    "    \n",
    "    sample_text = row[\"Review_Text\"]\n",
    "    summary = summarize_review(sample_text)\n",
    "    sentiment_label = analyze_sentiment(summary)\n",
    "\n",
    "    if sentiment_label == \"POSITIVE\":\n",
    "        break\n",
    "\n",
    "# Pull location and prepare input\n",
    "review_with_sentiment = f\"(Sentiment detected: {sentiment_label})\\n\\n{sample_text}\"\n",
    "\n",
    "#  Generate response\n",
    "print(f\"Sentiment: {sentiment_label}\")\n",
    "print(\"\\nOriginal Review:\\n\",sample_text)\n",
    "print(\"\\nSummary:\\n\",summary)\n",
    "print(\"\\nDrafted Response:\\n\",\n",
    "      openai_generate_response(review_with_sentiment))\n"
   ]
  },
  {
   "cell_type": "markdown",
   "id": "3460b789-f4bc-4a21-912f-c5414b97d707",
   "metadata": {},
   "source": [
    "## 5. Full Pipeline Function: `analyze_and_respond`"
   ]
  },
  {
   "cell_type": "code",
   "execution_count": 17,
   "id": "92162970-acfc-4c61-85b9-8c0b0cfd3b64",
   "metadata": {},
   "outputs": [],
   "source": [
    "from openai import OpenAI\n",
    "\n",
    "client = OpenAI(api_key=api_key)\n",
    "\n",
    "def analyze_and_respond(review_text, reviewer_location=\"your location\"):\n",
    "    \"\"\"\n",
    "    Full GenAI pipeline:\n",
    "    - Summarizes the review\n",
    "    - Analyzes sentiment\n",
    "    - Adds sentiment & location context to the prompt\n",
    "    - Generates a GPT response\n",
    "    - Returns summary, sentiment, and full response\n",
    "    \"\"\"\n",
    "\n",
    "    # Step 1: Summarize\n",
    "    def summarize_review(text):\n",
    "        return summarizer(text, max_length=50, min_length=10, do_sample=False)[0]['summary_text']\n",
    "\n",
    "    # Step 2: Sentiment Analysis\n",
    "    def analyze_sentiment(text):\n",
    "        result = sentiment_analyzer(text)[0]\n",
    "        return result[\"label\"]\n",
    "\n",
    "    # Step 3: OpenAI Response\n",
    "    def openai_generate_response(text_with_sentiment, reviewer_location=\"your location\"):\n",
    "        prompt = f\"\"\"\n",
    "You are a Disneyland customer service representative.\n",
    "\n",
    "A guest from {reviewer_location} wrote the following review:\n",
    "\n",
    "\\\"\\\"\\\"{text_with_sentiment}\\\"\\\"\\\"\n",
    "\n",
    "Write a thoughtful, friendly, and professional response as if you personally read the review. Your response should:\n",
    "- Acknowledge specific details from the review, especially if the review is negative.\n",
    "- Reflect the tone of the guest's experience (positive, negative, or neutral)\n",
    "- Be written in a sincere and human voice\n",
    "- If the review is negative, offer some special offer or concession to apologize for the negative experience\n",
    "- End with a **magical Disney-style farewell** (such as \"Have a magical day!\" or \"We look forward to welcoming you back to the Happiest Place on Earth.\")\n",
    "- Sign off with a realistic name (e.g., \"Best wishes, Chris – Disneyland Guest Services\"). **Do not write '[Your Name]'. You MUST use an actual name.**\n",
    "\n",
    "Keep it brief—no more than 5–7 sentences.\n",
    "\"\"\"\n",
    "\n",
    "        response = client.chat.completions.create(\n",
    "            model=\"gpt-3.5-turbo\",\n",
    "            messages=[\n",
    "                {\"role\": \"user\", \"content\": prompt}\n",
    "            ],\n",
    "            temperature=0.7,\n",
    "            max_tokens=300\n",
    "        )\n",
    "        return response.choices[0].message.content\n",
    "\n",
    "    try:\n",
    "        summary = summarize_review(review_text)\n",
    "        sentiment_label = analyze_sentiment(summary)\n",
    "        review_with_sentiment = f\"(Sentiment detected: {sentiment_label})\\n\\n{review_text}\"\n",
    "        response = openai_generate_response(review_with_sentiment, reviewer_location)\n",
    "\n",
    "        return {\n",
    "            \"summary\": summary,\n",
    "            \"sentiment\": sentiment_label,\n",
    "            \"response\": response\n",
    "        }\n",
    "\n",
    "    except Exception as e:\n",
    "        return {\n",
    "            \"summary\": None,\n",
    "            \"sentiment\": None,\n",
    "            \"response\": f\"!! Failed to generate response: {e}\"\n",
    "        }"
   ]
  },
  {
   "cell_type": "markdown",
   "id": "4ce18473-9c10-4db0-b3dc-27e60ed4637f",
   "metadata": {},
   "source": [
    "### Test case"
   ]
  },
  {
   "cell_type": "code",
   "execution_count": 18,
   "id": "ca3cb63c-2eaa-45de-b6b6-029ac3bc699a",
   "metadata": {},
   "outputs": [
    {
     "name": "stdout",
     "output_type": "stream",
     "text": [
      "Original Review:\n",
      " It was a shame that so much of the park was closed off and we wasn't aware of how much was closed when we booked nearly a year ago else we might have changed when we went. But we still have a fabulous time. We didn't queue to meet any characters though as it was so busy the queues were huge! The dreams and parades were amazing! I absolutely loved every minute of those! \n",
      "\n",
      "Summary:\n",
      " It was a shame that so much of the park was closed off and we wasn't aware of how much was closed when we booked nearly a year ago. We didn't queue to meet any characters though as it was so busy the queues\n",
      "\n",
      "Sentiment: NEGATIVE\n",
      "\n",
      "Final Response:\n",
      " Dear valued guest from the United Kingdom,\n",
      "\n",
      "Thank you for sharing your experience with us. We apologize for any disappointment caused by the closures during your visit. We strive to provide a magical experience for all our guests and are sorry that this was not fully met on this occasion. We're thrilled to hear that you still had a fabulous time and enjoyed the dreams and parades. As a gesture of goodwill, we would like to offer you a special voucher for your next visit. We hope to welcome you back soon for an even more enchanting experience.\n",
      "\n",
      "Have a magical day!\n",
      "\n",
      "Best wishes,\n",
      "Hannah - Disneyland Guest Services\n"
     ]
    }
   ],
   "source": [
    "row = reviews.sample(1).iloc[0]\n",
    "review_text = row[\"Review_Text\"]\n",
    "reviewer_location = row.get(\"Reviewer_Location\", \"your location\")\n",
    "\n",
    "result = analyze_and_respond(review_text, reviewer_location)\n",
    "\n",
    "print(\"Original Review:\\n\", review_text)\n",
    "print(\"\\nSummary:\\n\", result[\"summary\"])\n",
    "print(\"\\nSentiment:\", result[\"sentiment\"])\n",
    "print(\"\\nFinal Response:\\n\", result[\"response\"])\n"
   ]
  },
  {
   "cell_type": "markdown",
   "id": "ee2cdab3-5999-47a7-92ab-42f9ffccf99f",
   "metadata": {},
   "source": [
    "\n",
    "—\n",
    "\n",
    "**Author**\n",
    "\n",
    "Christopher Bacani, 2025"
   ]
  },
  {
   "cell_type": "code",
   "execution_count": null,
   "id": "b863dc20-97d4-432a-9580-1c85b0890dcb",
   "metadata": {},
   "outputs": [],
   "source": []
  }
 ],
 "metadata": {
  "kernelspec": {
   "display_name": "Python 3 (ipykernel)",
   "language": "python",
   "name": "python3"
  },
  "language_info": {
   "codemirror_mode": {
    "name": "ipython",
    "version": 3
   },
   "file_extension": ".py",
   "mimetype": "text/x-python",
   "name": "python",
   "nbconvert_exporter": "python",
   "pygments_lexer": "ipython3",
   "version": "3.10.12"
  }
 },
 "nbformat": 4,
 "nbformat_minor": 5
}
